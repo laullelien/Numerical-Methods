{
 "cells": [
  {
   "cell_type": "markdown",
   "metadata": {},
   "source": [
    "   # TP de Méthodes Numériques : \n",
    "   # Simulation d'une chaîne d'oscillateurs non linéaires"
   ]
  },
  {
   "cell_type": "markdown",
   "metadata": {},
   "source": [
    "On considère un système de $n$ oscillateurs couplés, régi par une\n",
    "équation différentielle du second ordre dans $\\mathbb{R}^n$ :\n",
    "\\begin{equation}\n",
    "\\frac{d^2u}{dt^2}+C\\, \\frac{du}{dt}=f(u) \\quad (1)\n",
    "\\end{equation}\n",
    "avec $u(t)= (u_1(t), u_2(t), \\ldots , u_n(t))^T \\in \\mathbb{R}^n$, \n",
    "$f\\, : \\mathbb{R}^n \\rightarrow \\mathbb{R}^n$ fonction de classe $C^2$ et\n",
    "$$\n",
    "C\\in M_n(\\mathbb{R}) \\ \\ \n",
    "\\mbox{symétrique définie positive.}\n",
    "$$\n",
    "Nous allons simuler numériquement des équations de la forme (1) à l'aide du schéma\n",
    "aux différences finies centré implicite\n",
    "\\begin{equation}\n",
    "\\frac{u^{(k+1)}-2u^{(k)}+u^{(k-1)}}{h^2}+C\\, \\frac{u^{(k+1)}-u^{(k-1)}}{2\\, h}=f(u^{(k)})\n",
    "\\quad (2)\n",
    "\\end{equation}\n",
    "où $h>0$ est le pas de discrétisation et $u^{(k)}$ une approximation de $u(k\\, h)$.\n",
    "\n",
    "En introduisant la variable auxiliaire \n",
    "$$\n",
    "v=\\frac{du}{dt}+C\\, u,\n",
    "$$\n",
    "l'équation différentielle du second ordre (1) est équivalente à celle du premier ordre dans $\\mathbb{R}^n \\times \\mathbb{R}^n$\n",
    "\\begin{equation}\n",
    "\\left\\{\n",
    "\\begin{array}{lll}\n",
    "u'&=& v-C\\, u, \\\\\n",
    "v' &=& f(u),\n",
    "\\end{array}\n",
    "\\right.\n",
    "\\quad (3)\n",
    "\\end{equation}\n",
    "pour laquelle nous donnerons une reformulation du schéma (2).\n",
    "\n",
    "Les schémas numériques mis en oeuvre nous permettront \n",
    "d'étudier la convergence de différents systèmes vers un état d'équilibre\n",
    "et certains phénomènes transitoires. \n",
    "Une solution d'équilibre $u^\\ast \\in \\mathbb{R}^n$ de (1) est une solution indépendante de $t$,\n",
    "caractérisée par la propriété $f(u^\\ast)=0$. De manière équivalente, une \n",
    "solution d'équilibre $(u^\\ast , v^\\ast) \\in \\mathbb{R}^n \\times \\mathbb{R}^n$ de (3)\n",
    "est caractérisée par\n",
    "$$\n",
    "f(u^\\ast)=0, \\quad v^\\ast = C\\, u^\\ast.\n",
    "$$"
   ]
  },
  {
   "cell_type": "markdown",
   "metadata": {},
   "source": [
    "## 1. Reformulation et étude du schéma centré"
   ]
  },
  {
   "cell_type": "markdown",
   "metadata": {},
   "source": [
    "Etant donné une condition initiale \n",
    "$$\n",
    "(u(0),v(0)) = \n",
    "(u^{(0)},v^{(0)}),\n",
    "$$\n",
    "on souhaite calculer numériquement $(u(t),v(t))$ pour $t \\in [0,T]$.\n",
    "On approche $(u(kh),v(kh))$ par la solution $(u^{(k)},v^{(k)})$ du schéma suivant\n",
    "\\begin{equation}\n",
    "\\forall k\\geq 0, \\quad \n",
    "\\left\\{\n",
    "\\begin{array}{lllr}\n",
    "v^{(k+1/2)}&=&v^{(k)}+\\frac{h}{2}\\, f(u^{(k)}) & (a) \\\\\n",
    "u^{(k+1)}&=&u^{(k)}+h\\, v^{(k+1/2)} -h\\, C\\,  \\frac{u^{(k+1)}+u^{(k)}}{2} & (b)\\\\\n",
    "v^{(k+1)}&=&v^{(k+1/2)}+\\frac{h}{2}\\, f(u^{(k+1)}). & (c)\n",
    "\\end{array}\n",
    "\\right.\n",
    "\\quad (4)\n",
    "\\end{equation}\n",
    "A chaque itération, il est nécessaire de résoudre l'équation (4)-(b) pour $u^{(k+1)}$, qui correspond au système linéaire\n",
    "$$\n",
    "A\\, u^{(k+1)} = \\big(I-\\frac{h}{2}\\, C\\big)\\, u^{(k)}+h\\, v^{(k+1/2)}\n",
    "$$\n",
    "de matrice symétrique définie positive\n",
    "$$\n",
    "A=I+\\frac{h}{2}\\, C. \\quad (5)\n",
    "$$"
   ]
  },
  {
   "cell_type": "markdown",
   "metadata": {},
   "source": [
    "#### Question 1 \n",
    "Montrer que la condition initiale et la\n",
    "relation de récurrence (4) déterminent la suite $(u^{(k)},v^{(k)})_{k \\geq 0}$."
   ]
  },
  {
   "attachments": {},
   "cell_type": "markdown",
   "metadata": {},
   "source": [
    "Réponse : $\\\\$\n",
    "Pour $n \\in \\mathbb N $ on note $ P(n):$ \"$u^{(n)}$ et $v^{(n)}$ sont bien déterminés\" $\\\\$\n",
    "$ P(0)$ vrai par les conditions initailes. $\\\\$\n",
    "Soit $n \\in \\mathbb N$ tel que $ P(n) $ soit vrai.$\\\\$\n",
    "Alors,\n",
    "\\begin{align}\n",
    "u^{(n+1)}&=\\frac {2}{2+hC}(u^{(n)}+h\\, v^{(n)}+\\frac{h^{2}}{2}\\, f(u^{(n)}) -h\\, C\\,  \\frac{u^{(n)}}{2}) \\nonumber \\\\\n",
    "v^{(n+1)}=&v^{(n)}+\\frac{h}{2}\\, f(u^{(n)})+\\frac{h}{2}\\, f(\\frac {2}{2+hC}(u^{(n)}+h\\, v^{(n)}+\\frac{h^{2}}{2}\\, f(u^{(n)}) -h\\, C\\,  \\frac{u^{(n)}}{2})). \\nonumber\n",
    "\\end{align}\n",
    "Ainsi, $ P(n+1) $ est vrai et par réccurence, la condition initiale et la\n",
    "relation de récurrence (4) déterminent la suite $(u^{(k)},v^{(k)})_{k \\geq 0}$."
   ]
  },
  {
   "cell_type": "markdown",
   "metadata": {},
   "source": [
    "On notera $\\varphi\\, : \\big(\\mathbb{R}^n \\big)^2 \\rightarrow \\big(\\mathbb{R}^n \\big)^2$ \n",
    "l'application définie par (4)\n",
    "$$(u^{(k)},v^{(k)}) \\mapsto \\varphi (u^{(k)},v^{(k)})= (u^{(k+1)},v^{(k+1)}).$$"
   ]
  },
  {
   "cell_type": "markdown",
   "metadata": {},
   "source": [
    "#### Question 2 \n",
    "Montrer que toute solution de (4) vérifie (2) pour tout $k\\geq 1$."
   ]
  },
  {
   "attachments": {},
   "cell_type": "markdown",
   "metadata": {},
   "source": [
    "Réponse : $\\\\$\n",
    "Soit la suite $(u^{(k)},v^{(k)})_{k \\geq 0}$ solution de (4). $\\\\$\n",
    "Soit $k \\geq 1. \\\\$\n",
    "\\begin{align}\n",
    "u^{(k+1)}&= u^{(k)}+hv^{(k)}+\\frac{h^2}{2}\\, f(u^{(k)}) -h\\, C\\,  \\frac{u^{(k+1)}+u^{(k)}}{2} \\nonumber \\\\\n",
    "\\llap{Donc, \\qquad} u^{(k+1)} - u^{(k)}&= u^{(k)}-u^{(k-1)}+h(v^{(k)}-v^{(k-1)})+\\frac{h^2}{2}\\, (f(u^{(k)})-f(u^{(k-1)})) -h\\, C\\,  \\frac{u^{(k+1)}-u^{(k-1)}}{2} \\nonumber \\\\\n",
    "\\llap{De plus, \\qquad} v^{(k)}-v^{(k-1)} &= \\frac{h}{2}\\, (f(u^{(k)})+f(u^{(k-1)})) \\nonumber \\\\\n",
    "u^{(k+1)} -2\\, u^{(k)} + u^{(k-1)}&= h^2\\, f(u^{(k)}) -h\\, C\\,  \\frac{u^{(k+1)}-u^{(k-1)}}{2} \\nonumber \\\\\n",
    "\\llap{Finalement, \\qquad} f(u^{(k)}) &= \\frac{u^{(k+1)}-2u^{(k)}+u^{(k-1)}}{h^2}+C\\, \\frac{u^{(k+1)}-u^{(k-1)}}{2\\, h} \\nonumber \\\\\n",
    "\\end{align}\n",
    "En conclusion, toute solution de (4) vérifie (2) pour tout $k\\geq 1$"
   ]
  },
  {
   "cell_type": "markdown",
   "metadata": {},
   "source": [
    "#### Question 3\n",
    "Vérifier que les points fixes de $\\varphi$ sont les équilibres $(u^\\ast , v^\\ast)$ de (3)."
   ]
  },
  {
   "attachments": {},
   "cell_type": "markdown",
   "metadata": {},
   "source": [
    "Réponse : $\\\\$\n",
    "Soit $(u^\\ast , v^\\ast)$ un point fixes de $\\varphi$. $\\\\$\n",
    "\\begin {align}\n",
    "\\llap{Alors, \\qquad} u^{*} &= u^{*}+hv^{*}+\\frac{h^2}{2}\\, f(u^{*}) -h\\, C\\,  \\frac{u^{*}+u^{*}}{2} \\nonumber \\\\\n",
    "\\llap{Donc, \\qquad} v^{*}&=C\\,  u^{*} + \\frac{h}{2}\\, f(u^{*}) \\nonumber \\\\\n",
    "\\llap{Comme, pout tout } k \\in \\mathbb N \\qquad f(u^{(k+1)}) &= \\frac{u^{(k+2)}-2u^{(k+1)}+u^{(k)}}{h^2}+C\\, \\frac{u^{(k+2)}-u^{(k)}}{2\\, h} \\nonumber \\\\\n",
    "\\llap{Alors, \\qquad} f(u^{*}) &= \\frac{u^{*}-2u^{*}+u^{*}}{h^2}+C\\, \\frac{u^{*}-u^{*}}{2\\, h}=0 \\nonumber \\\\\n",
    "\\llap{Finalement, \\qquad} f(u^\\ast) & =0, \\quad v^\\ast = C\\, u^\\ast \\nonumber \\\\\n",
    "\\end{align}\n",
    "Soit $(u^\\ast , v^\\ast)$ équilibre de (3). $\\\\$\n",
    "Alors, $u^\\ast$ ne dépend pas du temps et $(u^\\ast) '=0 \\\\$\n",
    "De même, $(v^\\ast) '= (u^\\ast) ''+C (u^\\ast)'=   0 \\\\$\n",
    "Ainsi, $(u^\\ast , v^\\ast)$ est un point fixe de $\\varphi. \\\\$\n",
    "Finalement, les points fixes de $\\varphi$ sont les équilibres $(u^\\ast , v^\\ast)$ de (3)."
   ]
  },
  {
   "cell_type": "markdown",
   "metadata": {},
   "source": [
    "#### Question 4\n",
    "Déterminer l'ordre de consistance du schéma (4)."
   ]
  },
  {
   "attachments": {},
   "cell_type": "markdown",
   "metadata": {},
   "source": [
    "Réponse : \n",
    "$\\\\$\n",
    "On pose:\n",
    "$\\\\$\n",
    "$\\begin{array}{ccccc}\n",
    "\\phi & : & \\mathbb R \\times \\mathbb R^n \\times \\mathbb R & \\to & \\mathbb R ^n \\\\\n",
    " & & (t, u(t), h) & \\mapsto & v(t)+\\frac{h}{2}\\, f(u(t)) -C\\,  \\frac{u(t+h)+u(t)}{2} \\\\\n",
    "\\end{array}$\n",
    "\\begin{align}\n",
    "\\forall (t, u(t), h) \\in \\mathbb R \\times \\mathbb R^n \\times \\mathbb R, \\phi((t, u(t), h))&= u'(t)+Cu(t)+\\frac{h}{2}\\, (u''(t)+Cu'(t)) -C\\,  \\frac{u(t+h)+u(t)}{2} \\nonumber \\\\\n",
    "&=\\frac{h}{2}\\, u''(t)+ (1+\\frac{hC}{2})\\, u'(t) -C\\,  \\frac{u(t+h)-u(t)}{2} \\nonumber \\\\\n",
    "\\end{align}\n",
    "Déterminons l'odre de consistance de (4):\n",
    "\\begin{align}\n",
    "    \\forall t,h \\in \\mathbb R, \\phi((t, u(t), h))-\\frac{u(t+h)-u(t)}{h}= \\frac{h}{2}\\, u''(t)+ (1+\\frac{hC}{2})\\, u'(t) -(\\frac{C}{2}+\\frac{1}{h} )\\,  (u(t+h)-u(t)) \\nonumber \\\\\n",
    "\\end{align}\n",
    "Comme f est $C^2$, $u$ est $C^3$ et d'après la formule de Taylor-Young:\n",
    "$$ \\forall t,h \\in \\mathbb R, u(t+h)-u(t)=hu'(t)+\\frac{h^2}{2}u''(t)+O(h^3) $$\n",
    "Ainsi,\n",
    "\\begin{align}\n",
    "\\forall t,h \\in \\mathbb R, \\phi((t, u(t), h))-\\frac{u(t+h)-u(t)}{h}&= \\frac{h}{2}\\, u''(t)+ (1+\\frac{hC}{2})\\, u'(t) -(\\frac{C}{2}+\\frac{1}{h} )\\,(hu'(t)+\\frac{h^2}{2}u''(t)+O(h^3))\\nonumber \\\\\n",
    "&=-\\frac{C}{4}h^2u''(t)+O(h^2) )\\nonumber\\\\\n",
    "&=O(h^2))\\nonumber\n",
    "\\end{align}\n",
    "Le schéma (4) est donc consistant d'ordre 2."
   ]
  },
  {
   "cell_type": "markdown",
   "metadata": {},
   "source": [
    "#### Question 5\n",
    "On admet que lorsque $f$ est lipschitzienne sur $\\mathbb{R}^n$,\n",
    "le schéma (4) est stable par rapport aux erreurs sur l'intervalle $[0,T]$.\n",
    "Justifier dans ce cas la convergence du schéma (4) lorsque $h\\rightarrow 0$ et donner son ordre de convergence."
   ]
  },
  {
   "attachments": {},
   "cell_type": "markdown",
   "metadata": {},
   "source": [
    "Réponse : $\\\\$\n",
    "Le schéma (4) est donc stable et consistant. On en déduit qu'il est convergent. De plus, étant consistant d'ordre 2, il est convergent d'ordre 2."
   ]
  },
  {
   "cell_type": "markdown",
   "metadata": {},
   "source": [
    "## 2. Test du schéma pour un oscillateur linéaire"
   ]
  },
  {
   "cell_type": "markdown",
   "metadata": {},
   "source": [
    "On considère l'équation (1) pour $u(t) \\in \\mathbb{R}$, $C>0$ et \n",
    "$$f(u)=1-u.$$\n",
    "Ce système décrit par exemple le déplacement d'un ressort linéaire amorti soumis à une force constante unitaire.\n",
    "Les solutions $u(t)$ de (1) peuvent être calculées explicitement dans ce cas (l'équation est linéaire non homogène à coefficients constants). Ce calcul permet de tester le schéma (4) avant de l'appliquer aux exemples plus complexes étudiés dans les sections 3 et 4."
   ]
  },
  {
   "cell_type": "markdown",
   "metadata": {},
   "source": [
    "#### Question 6\n",
    "Calculer la solution d'équilibre $(u^\\ast , v^\\ast)$ de (3)."
   ]
  },
  {
   "attachments": {},
   "cell_type": "markdown",
   "metadata": {},
   "source": [
    "Réponse :  $\\\\$\n",
    "Une solution d'équilibre $(u^\\ast , v^\\ast)$ de (3) est caractérisée par $f(u^\\ast) =0$ et $ v^\\ast = C\\, u^\\ast$. $\\\\$\n",
    "On en déduit $u^\\ast=1$ et $v^\\ast = C$."
   ]
  },
  {
   "cell_type": "code",
   "execution_count": 2,
   "metadata": {
    "collapsed": true
   },
   "outputs": [],
   "source": [
    "%matplotlib inline\n",
    "import matplotlib.pyplot as plt\n",
    "from matplotlib.animation import FuncAnimation\n",
    "import numpy as np"
   ]
  },
  {
   "cell_type": "markdown",
   "metadata": {},
   "source": [
    "#### Question 7\n",
    "Ecrire une fonction **iter** qui calcule la solution $[u^{(k+1)},v^{(k+1)}]$ de (4)\n",
    "en fonction des arguments $[u^{(k)}$, $v^{(k)}]$ et $h$.\n",
    "Pour des valeurs de votre choix de $C$ et $h$,\n",
    "tester cette fonction sur le vecteur $[u^{(k)}$, $v^{(k)}]=[u^{\\ast}$, $v^{\\ast}]$."
   ]
  },
  {
   "cell_type": "code",
   "execution_count": 3,
   "metadata": {
    "collapsed": true
   },
   "outputs": [
    {
     "name": "stdout",
     "output_type": "stream",
     "text": [
      "[1.0000000000000002, 0.2999999999999999]\n",
      "[0.9999999999999998, 0.30000000000000004]\n",
      "[1.0000000000000002, 0.3]\n",
      "[1.0000000000000002, 0.3]\n",
      "[1.0, 0.3]\n",
      "[1.0, 0.3]\n",
      "[1.0000000000000002, 0.3]\n",
      "[0.9999999999999998, 0.3]\n",
      "[1.0000000000000002, 0.3]\n"
     ]
    }
   ],
   "source": [
    "def f(u):\n",
    "    return 1-u\n",
    " \n",
    "C=0.3\n",
    "\n",
    "def iter(sol_k, h):\n",
    "    global C\n",
    "    u_k=sol_k[0]\n",
    "    v_k=sol_k[1]\n",
    "    u_kp1= 2/(2+h*C)*(u_k+h*v_k+h**2/2*f(u_k)-h*C/2*u_k)\n",
    "    v_kp1=v_k+h/2*f(u_k)+h/2*f(u_kp1)\n",
    "    return [u_kp1, v_kp1]\n",
    "\n",
    "#test\n",
    "for i in range(1, 10):\n",
    "    print(iter([1, 0.3], 1/i**2))\n"
   ]
  },
  {
   "cell_type": "markdown",
   "metadata": {},
   "source": [
    "#### Question 8\n",
    "Ecrire une fonction **solnum** (prenant en arguments\n",
    "la condition initiale $[u(0),v(0)]$, le temps maximal d'intégration $T$ et le pas $h$)\n",
    "qui calcule la solution numérique $[u^{(k)},v^{(k)}]$\n",
    "aux temps $t_k = k\\, h \\in [0,T]$, c'est à dire jusqu'à l'itéré \n",
    "$k_{\\mathrm{max}}=\\mathrm{E}(T/h)$ où $\\mathrm{E}$ désigne la partie entière.\n",
    "La fonction fournit en sortie\n",
    "les valeurs de $[u^{(k)},v^{(k)}]$ pour $0 \\leq k \\leq k_{\\mathrm{max}}$\n",
    "sous la forme d'une matrice de taille $2 \\times (k_{\\mathrm{max}}+1)$.\n",
    "Pour des valeurs de votre choix de $C$, $T$ et $h$,\n",
    "tester cette fonction sur la condition initiale $[u(0), v(0)]=[u^{\\ast}, v^{\\ast}]$."
   ]
  },
  {
   "cell_type": "code",
   "execution_count": 4,
   "metadata": {
    "collapsed": true
   },
   "outputs": [
    {
     "name": "stdout",
     "output_type": "stream",
     "text": [
      "[[1, 0.3], [1.0000000000000002, 0.2999999999999999], [1.0, 0.29999999999999977], [1.0, 0.29999999999999977], [1.0, 0.29999999999999977], [1.0, 0.29999999999999977], [1.0, 0.29999999999999977], [1.0, 0.29999999999999977], [1.0, 0.29999999999999977], [1.0, 0.29999999999999977]]\n"
     ]
    }
   ],
   "source": [
    "def solnum(sol_0, T, h):\n",
    "    sol=[sol_0]\n",
    "    for _ in range(int(T/h)):\n",
    "        sol.append(iter(sol[-1], h))\n",
    "    return sol\n",
    "\n",
    "#test\n",
    "sol=solnum([1, 0.3], 9, 1)\n",
    "print(sol)"
   ]
  },
  {
   "cell_type": "markdown",
   "metadata": {},
   "source": [
    "Dans les questions 9 à 11, on fixe $C=0.3$ et\n",
    "on suppose le système initialement au repos :\n",
    "$$\n",
    "u(0)=0, \\quad u^\\prime (0)=0, \\quad (6)\n",
    "$$\n",
    "et donc $v(0)=0$."
   ]
  },
  {
   "cell_type": "markdown",
   "metadata": {},
   "source": [
    "#### Question 9\n",
    "Calculer la solution explicite $(u(t),v(t))$ de (3) pour cette condition initiale.\n",
    "Que vaut $\\lim_{t\\rightarrow +\\infty}(u(t),v(t))$ ?\n",
    "Ecrire une fonction **solexacte** prenant en argument un vecteur de temps $[t_k ]_{0\\leq k \\leq k_{\\mathrm{max}}}$,\n",
    "qui évalue cette solution aux temps $t_k$ en stockant les valeurs dans\n",
    "une matrice de taille $2 \\times (k_{\\mathrm{max}}+1)$. "
   ]
  },
  {
   "attachments": {},
   "cell_type": "markdown",
   "metadata": {},
   "source": [
    "Réponse (calcul explicite) : $\\\\$\n",
    "Déterminons la solution du problème de Cauchy: $\\\\$\n",
    "$\\forall t \\in \\mathbb R,u''(t)+0.3\\, u'(t) +u(t)=1 \\\\$\n",
    "$u(0)=0, \\quad u^\\prime (0)=0 \\\\$\n",
    "On trouve d'abord les racines du polynome associé: $\\\\$\n",
    "$X^2+0.3X+1=0 \\\\$\n",
    "Son discriminant est $\\Delta=-3.91 \\\\$\n",
    "Ses racines sont donc $X_1=\\frac{-0.3+i \\sqrt 3.91}{2}  $ et $X_2=\\frac{-0.3-i \\sqrt 3.91}{2} \\\\$\n",
    "L'ensemble des solutions de l'équation différentielle homogène associée est $\\{ \\begin{array}{ccccc}\n",
    "\\ & \\mathbb R  \\to & \\mathbb R  \\\\\n",
    "  & t & \\mapsto & (\\lambda_1 \\cos(\\frac {\\sqrt3.91}{2}  t) + \\lambda_2 \\sin(\\frac {\\sqrt3.91}{2}t))e^{-0.15t}  \\\\\n",
    "\\end{array} ; \\lambda_1 , \\lambda_2 \\in \\mathbb R     \\} \\\\$\n",
    "1 est solution évidente.\n",
    "On cherche donc $\\lambda_1 , \\lambda_2 \\in \\mathbb R$ tels que \n",
    "\\begin{equation}\n",
    "\\left\\{\n",
    "\\begin{array}{lll}\n",
    "\\lambda_1 + 1=0 \\\\\n",
    "\\lambda_2\\frac {\\sqrt3.91}{2}-0.15\\lambda_1=0\n",
    "\\end{array}\n",
    "\\right.\n",
    "\\quad\n",
    "\\nonumber\n",
    "\\end{equation}\n",
    "On en déduit $\\lambda_1=-1$ et $\\lambda_2=-\\frac {0.3}{\\sqrt3.91} \\\\$\n",
    "Ainsi, pout tout $t \\in \\mathbb R$, $u(t)=(-\\cos(\\frac {\\sqrt3.91}{2}  t) -\\frac {0.3}{\\sqrt3.91} \\sin(\\frac {\\sqrt3.91}{2}t))e^{-0.15t}+1 \\\\$\n",
    "pout tout $t \\in \\mathbb R$,\n",
    "\\begin{align}\n",
    "v(t)&= u'(t)+0.3u(t) \\nonumber \\\\\n",
    "&= 0.15(-\\cos(\\frac {\\sqrt3.91}{2}  t) -\\frac {0.3}{\\sqrt3.91} \\sin(\\frac {\\sqrt3.91}{2}t))e^{-0.15t}+(\\frac {\\sqrt3.91}{2}\\sin(\\frac {\\sqrt3.91}{2}  t) -0.15\\cos(\\frac {\\sqrt3.91}{2}t))e^{-0.15t}+0.3 \\nonumber \\\\\n",
    "&=0.15(-2\\cos(\\frac {\\sqrt3.91}{2}  t)+(\\frac {\\sqrt3.91}{0.3}-\\frac {0.3}{\\sqrt3.91}) \\sin(\\frac {\\sqrt3.91}{2}t))e^{-0.15t}+0.3 \\nonumber \\\\\n",
    "\\end{align}\n",
    "On a $\\lim_{t\\rightarrow +\\infty}(u(t),v(t))=(1, 0.3)=(u^*, v^*)$ par somme et par prduit de fonctions bornées par des fonctions qui tendent vers 0.\n"
   ]
  },
  {
   "cell_type": "markdown",
   "metadata": {},
   "source": []
  },
  {
   "cell_type": "code",
   "execution_count": 5,
   "metadata": {
    "collapsed": true
   },
   "outputs": [],
   "source": [
    "def u(t):\n",
    "    c=np.sqrt(3.91)\n",
    "    return 1+np.exp(-0.15*t)*(-np.cos(c/2*t)-0.3/c*np.sin(c/2*t))\n",
    "\n",
    "def v(t):\n",
    "    c=np.sqrt(3.91)\n",
    "    return 0.3+0.15*np.exp(-0.15*t)*(-2*np.cos(c/2*t)+(c/0.3-0.3/c)*np.sin(c/2*t))\n",
    "\n",
    "def solexacte(temps):\n",
    "    return [[u(t), v(t)] for t in temps]"
   ]
  },
  {
   "cell_type": "markdown",
   "metadata": {},
   "source": [
    "#### Question 10\n",
    "On fixe $T=25$. Tracer le graphe de l'erreur globale\n",
    "$$\\mathrm{Err}\\,(h)=\\mathrm{max}_{0\\leq k \\leq k_{\\mathrm{max}}}\\| (u^{(k)},v^{(k)})-(u(t_k),v(t_k)) \\|_2$$\n",
    "pour $h \\in [10^{-5}, 10^{-1}]$ en utilisant une échelle logarithmique.\n",
    "Retrouvez-vous l'ordre de convergence obtenu dans la question 5 ?"
   ]
  },
  {
   "cell_type": "code",
   "execution_count": 7,
   "metadata": {
    "collapsed": true
   },
   "outputs": [
    {
     "data": {
      "image/png": "[encoded data removed]",
      "text/plain": [
       "<Figure size 640x480 with 1 Axes>"
      ]
     },
     "metadata": {},
     "output_type": "display_data"
    }
   ],
   "source": [
    "def err(h):\n",
    "    T=25\n",
    "    t=np.linspace(0, h*int(T/h), int(T/h)+1)\n",
    "    num=solnum([0, 0], T, h)\n",
    "    exct=solexacte(t)\n",
    "    cur_max=np.sqrt((num[0][0]-exct[0][0])**2+(num[0][1]-exct[0][1])**2)\n",
    "    for i in range(len(t)):\n",
    "        cur_max=max(cur_max, np.sqrt((num[i][0]-exct[i][0])**2+(num[i][1]-exct[i][1])**2))\n",
    "    return cur_max\n",
    "\n",
    "pas=[10**(-i*0.2) for i in range(1, 25)]\n",
    "errs=[err(h) for h in pas]\n",
    "plt.plot(pas, errs, label=\"erreur\")\n",
    "plt.plot(pas, [h**2 for h in pas], label=\"h²\") \n",
    "#on retrouve l'ordre 2:\n",
    "#En effet les courbes de l'érreur et de la fonction carré sont deux droites colinéaires en échelle logarithmique:\n",
    "#∃b∈R, ln(Err(h))=ln(h**2)+b donc Err(h)=e^b.h²=O(h²)\n",
    "plt.xscale(\"log\")\n",
    "plt.yscale(\"log\")\n",
    "plt.legend()\n",
    "plt.show()\n"
   ]
  },
  {
   "cell_type": "markdown",
   "metadata": {},
   "source": [
    "#### Question 11\n",
    "Etudier numériquement pour quelles valeurs de $h >0$ on a \n",
    "$\\lim_{k\\rightarrow +\\infty}{(u^{(k)},v^{(k)})}=\\lim_{t\\rightarrow +\\infty}(u(t),v(t))$.\n",
    "Pour cela, on pourra afficher pour différentes valeurs de $h$, et sur des intervalles de temps $[0,T]$ bien choisis,\n",
    "les graphes de $u^{(k)}$ et $v^{(k)}$ en fonction de $t_k$."
   ]
  },
  {
   "cell_type": "code",
   "execution_count": 30,
   "metadata": {
    "collapsed": true
   },
   "outputs": [],
   "source": [
    "#le temps caractérique de u est τ=1/0.15. A 3τ=20, le régime stationnaire est presque atteint\n",
    "T=20\n",
    "h=2\n",
    "t=np.linspace(0, h*int(T/h), int(T/h)+1)\n",
    "num=solnum([0, 0], T, h)\n",
    "u=[sol[0] for sol in num]\n",
    "v=[sol[1] for sol in num]\n",
    "while abs(u[-1]-1)>0.01 or abs(v[-1]-0.3)>0.003: #erreur de 1%\n",
    "    plt.plot(t, u)\n",
    "    plt.plot(t, v)\n",
    "    h=h/1.5\n",
    "    t=np.linspace(0, h*int(T/h), int(T/h)+1)\n",
    "    num=solnum([0, 0], T, h)\n",
    "    u=[sol[0] for sol in num]\n",
    "    v=[sol[1] for sol in num]\n",
    "plt.show()"
   ]
  },
  {
   "cell_type": "markdown",
   "metadata": {},
   "source": [
    "## 3. Oscillateur non linéaire soumis à une force constante"
   ]
  },
  {
   "cell_type": "markdown",
   "metadata": {},
   "source": [
    "On considère l'équation (1) pour $u(t) \\in \\mathbb{R}$, $C>0$ et \n",
    "$$f(u)=1-u^3.$$\n",
    "Ce système décrit le déplacement d'un ressort non-linéaire (non-linéarité cubique)\n",
    "avec amortissement linéaire, sous l'action d'une force constante unitaire."
   ]
  },
  {
   "cell_type": "markdown",
   "metadata": {},
   "source": [
    "#### Question 12\n",
    "Calculer la solution d'équilibre $(u^\\ast , v^\\ast)$ de (3)."
   ]
  },
  {
   "attachments": {},
   "cell_type": "markdown",
   "metadata": {},
   "source": [
    "Réponse :  $\\\\$\n",
    "Une solution d'équilibre $(u^\\ast , v^\\ast)$ de (3) est caractérisée par $f(u^\\ast) =0$ et $ v^\\ast = C\\, u^\\ast$. $\\\\$\n",
    "On en déduit $u^\\ast=1$ et $v^\\ast = C$."
   ]
  },
  {
   "cell_type": "markdown",
   "metadata": {},
   "source": [
    "#### Question 13\n",
    "Pour un oscillateur initialement au repos (condition initiale (6)),\n",
    "on calcule numériquement la solution de (3) sur l'intervalle de temps $[0,T]$ \n",
    "en utilisant le schéma (4). On choisit $T=30$ et le pas de temps $h=10^{-3}$.\n",
    "Pour différentes valeurs de $C$, tracer les graphes de $u^{(k)}$ et $v^{(k)}$ en fonction de $t_k$.\n",
    "Etudier numériquement pour quelles valeurs de $C$ la convergence vers l'équilibre s'effectue\n",
    "de manière monotone (régime sur-amorti), et pour quelles valeurs du paramètre cette convergence est oscillante (régime sous-amorti)."
   ]
  },
  {
   "cell_type": "code",
   "execution_count": null,
   "metadata": {
    "collapsed": true
   },
   "outputs": [],
   "source": []
  },
  {
   "cell_type": "markdown",
   "metadata": {},
   "source": [
    "## 4. Chaîne d'oscillateurs non linéaires forcée à une extrémité"
   ]
  },
  {
   "cell_type": "markdown",
   "metadata": {},
   "source": [
    "On étudie l'équation (1) avec $C=\\mu\\, K$ où\n",
    "$\\mu >0$ est un paramètre \n",
    "et la matrice $K\\in M_n (\\mathbb{R})$ ($n \\geq 2$) s'écrit:\n",
    "$$\n",
    "K =\\left(\n",
    "\\begin{array}{cccccc}\n",
    " 2  & -1 & 0 & 0 & \\ldots & 0 \\\\\n",
    " -1 & 2  & -1 & 0 & & \\vdots \\\\\n",
    "0 & -1 & 2  & -1 & \\ddots & \\vdots \\\\\n",
    "\\vdots & 0 & -1 & \\ddots & \\ddots & 0 \\\\\n",
    "\\vdots & & \\ddots & \\ddots & 2 & -1 \\\\\n",
    "0 & \\ldots & \\ldots & 0 & -1 & 1 \n",
    "\\end{array} \\right).\n",
    "$$\n",
    "On fixe par ailleurs\n",
    "$$\n",
    "f(u)= -K\\, u^3 + e_1 \\quad (7)\n",
    "$$\n",
    "où $e_1 = (1,0,0,\\ldots , 0)^T$ est le premier vecteur de la base canonique de $\\mathbb{R}^n$\n",
    "et on note\n",
    "$$\n",
    "u^3=(u_1^3, u_2^3, \\ldots , u_n^3)^T.\n",
    "$$\n",
    "Ce système décrit une chaîne de $n$ oscillateurs non linéaires cubiques\n",
    "(du même type que dans la section 3) couplés à leurs proches voisins.\n",
    "Une extrémité de la chaîne est soumise à une force constante unitaire, l'autre\n",
    "extrémité étant fixe."
   ]
  },
  {
   "cell_type": "markdown",
   "metadata": {},
   "source": [
    "#### Question 14\n",
    "Montrer que la matrice $K$ est symétrique définie positive."
   ]
  },
  {
   "cell_type": "markdown",
   "metadata": {},
   "source": [
    "Réponse : "
   ]
  },
  {
   "cell_type": "markdown",
   "metadata": {},
   "source": [
    "#### Question 15\n",
    "Montrer que l'équation (3) admet une unique solution d'équilibre $(u^\\ast , v^\\ast) \\in \\mathbb{R}^n \\times \\mathbb{R}^n$ qu'on calculera explicitement."
   ]
  },
  {
   "cell_type": "markdown",
   "metadata": {},
   "source": [
    "Réponse : "
   ]
  },
  {
   "cell_type": "markdown",
   "metadata": {},
   "source": [
    "On veut approcher numériquement la solution $(u(t),v(t))$\n",
    "de (3) pour une condition initiale $(u(0),v(0))$ donnée et $t \\in [0,T]$\n",
    "en utilisant le schéma (4)."
   ]
  },
  {
   "cell_type": "markdown",
   "metadata": {},
   "source": [
    "#### Question 16\n",
    "Définir une fonction **fvec** qui à un vecteur $u$ associe le vecteur $f(u)$ défini par (7).\n",
    "Tester cette fonction sur le vecteur $u^\\ast$."
   ]
  },
  {
   "cell_type": "code",
   "execution_count": null,
   "metadata": {
    "collapsed": true
   },
   "outputs": [],
   "source": []
  },
  {
   "cell_type": "markdown",
   "metadata": {},
   "source": [
    "#### Question 17\n",
    "Ecrire une fonction **factorise** (prenant en arguments $n$, $\\mu$ et $h$) qui calcule\n",
    "la factorisation $A = L\\, U = L\\, D\\, L^t$ de la matrice tridiagonale symétrique définie positive $A$ définie par (5).\n",
    "On rappelle que $L$ et $D$ sont de la forme\n",
    "$$\n",
    "L =\\left(\n",
    "\\begin{array}{cccccc}\n",
    " 1  & 0 & 0 & 0 & \\ldots & 0 \\\\\n",
    " l_0 & 1  & 0 & 0 & & \\vdots \\\\\n",
    "0 & l_1 & 1  & 0 & \\ddots & \\vdots \\\\\n",
    "\\vdots & 0 & l_2 & \\ddots & \\ddots & 0 \\\\\n",
    "\\vdots & & \\ddots & \\ddots & \\ddots & 0 \\\\\n",
    "0 & \\ldots & \\ldots & 0 & l_{n-2} & 1 \n",
    "\\end{array} \\right), \\quad\n",
    "D =\\left(\n",
    "\\begin{array}{cccccc}\n",
    " d_0  & 0 & 0 & 0 & \\ldots & 0 \\\\\n",
    " 0 & d_1  & 0 & 0 & & \\vdots \\\\\n",
    "0 & 0 & d_2  & 0 & \\ddots & \\vdots \\\\\n",
    "\\vdots & 0 & 0 & \\ddots & \\ddots & 0 \\\\\n",
    "\\vdots & & \\ddots & \\ddots & \\ddots & 0 \\\\\n",
    "0 & \\ldots & \\ldots & 0 & 0 & d_{n-1} \n",
    "\\end{array} \\right)\n",
    "$$\n",
    "avec $d_{i}>0$.\n",
    "La fonction fournit en sortie deux vecteurs contenant \n",
    "les coefficients sous-diagonaux de $L$ et diagonaux de $D$.\n",
    "Tester cette fonction pour des valeurs de votre choix de $n$, $\\mu$ et $h$."
   ]
  },
  {
   "cell_type": "code",
   "execution_count": null,
   "metadata": {
    "collapsed": true
   },
   "outputs": [],
   "source": []
  },
  {
   "cell_type": "markdown",
   "metadata": {},
   "source": [
    "#### Question 18\n",
    "\n",
    "Ecrire une fonction **solchaine**\n",
    "(prenant en arguments la condition initiale $(u(0),v(0))$, le temps maximal d'intégration $T$ et le pas $h$)\n",
    "qui calcule la solution numérique $(u^{(k)},v^{(k)})$ aux temps $t_k = k\\, h \\in [0,T]$.\n",
    "La fonction fournit en sortie\n",
    "les valeurs de $u^{(k)}$, $v^{(k)}$ pour $0 \\leq k \\leq k_{\\mathrm{max}}$\n",
    "sous la forme de deux matrices de taille $n \\times (k_{\\mathrm{max}}+1)$ \n",
    "$$\n",
    "[u^{(0)},u^{(1)},\\ldots , u^{(k_{\\mathrm{max}})}], \\quad\n",
    "[v^{(0)},v^{(1)},\\ldots , v^{(k_{\\mathrm{max}})}].\n",
    "$$\n",
    "La factorisation $A=L\\, D\\, L^t$ est calculée avant de démarrer les itérations (4), puis\n",
    "à chaque itération on résout l'équation (4)-(b) par simple descente/remontée.\n",
    "Tester cette fonction sur la condition initiale $[u(0), v(0)]=[u^{\\ast}, v^{\\ast}]$\n",
    "pour des valeurs de votre choix de $n$, $\\mu$, $T$ et $h$."
   ]
  },
  {
   "cell_type": "code",
   "execution_count": null,
   "metadata": {
    "collapsed": true
   },
   "outputs": [],
   "source": []
  },
  {
   "cell_type": "markdown",
   "metadata": {},
   "source": [
    "Dans les questions 19 et 20, on simule le système (1) pour la condition initiale (6) correspondant à la chaîne au repos.\n",
    "On note $u_{\\mathrm{app}}(j,t_k)$ l'approximation numérique de la solution $u_j(t_k)$ de (1)-(6),\n",
    "et $u^\\prime_{\\mathrm{app}}(j,t_k)$ celle de $u_j^\\prime(t_k)$. On a donc\n",
    "$$\n",
    "u^\\prime_{\\mathrm{app}}(.,t_k) = v^{(k)}-\\mu\\, K\\, u^{(k)}.\n",
    "$$"
   ]
  },
  {
   "cell_type": "markdown",
   "metadata": {},
   "source": [
    "#### Question 19\n",
    "On choisit comme pas d'intégration $h=10^{-3}$.\n",
    "Pour $n=5$ et $\\mu = 0.5$, calculer la solution numérique de (1)-(6) sur un intervalle $[0,T]$ bien choisi et\n",
    "tracer les graphes de $u_{\\mathrm{app}}(j,t)$ et $u^\\prime_{\\mathrm{app}}(j,t)$ en fonction de $t$\n",
    "pour $j=1,3,5$ (i.e. pour les oscillateurs situés en début, milieu et fin de chaîne).\n",
    "Quel est l'ordre de grandeur du temps $t_{\\mathrm{eq}}$ nécessaire pour atteindre un état proche de l'équilibre ?\n",
    "On pourra fixer comme critère\n",
    "$\\| u(t)-u^\\ast \\|_\\infty < 10^{-3}$ pour tout $t \\geq t_{\\mathrm{eq}}$.\n",
    "Comparer ce temps à celui observé pour $n=1$ (modèle étudié dans la section 3 avec $C=0.5$)."
   ]
  },
  {
   "cell_type": "code",
   "execution_count": null,
   "metadata": {
    "collapsed": true
   },
   "outputs": [],
   "source": []
  },
  {
   "cell_type": "markdown",
   "metadata": {},
   "source": [
    "#### Question 20\n",
    "\n",
    "Calculer $u_{\\mathrm{app}}$ pour $n=100$ et $\\mu = 5$, en fixant\n",
    "$T=2500$ et $h=10^{-2}$.\n",
    "Décrire les différents phénomènes qu'on peut observer \n",
    "avant que le système atteigne un état voisin de l'équilibre.\n",
    "Pour étayer votre analyse, afficher un échantillon de graphes bien choisis :\n",
    "\n",
    "-graphes des \n",
    "fonctions $t \\mapsto u_{\\mathrm{app}}(j,t)$ à différents noeuds $j$,\n",
    "\n",
    "-graphe de $j \\mapsto u_{\\mathrm{app}}(j,t)$ à différents temps $t$,\n",
    "\n",
    "-graphe animé de $j \\mapsto u_{\\mathrm{app}}(j,t)$ lorsque \n",
    "$t$ décrit l'intervalle $[0,T]$, en utilisant \n",
    "la fonction **FuncAnimation()** du module animation de Matplotlib."
   ]
  },
  {
   "cell_type": "code",
   "execution_count": null,
   "metadata": {
    "collapsed": true
   },
   "outputs": [],
   "source": [
    "# Enable interactive plot\n",
    "%matplotlib notebook"
   ]
  }
 ],
 "metadata": {
  "kernelspec": {
   "display_name": "Python 3 (ipykernel)",
   "language": "python",
   "name": "python3"
  },
  "language_info": {
   "codemirror_mode": {
    "name": "ipython",
    "version": 3
   },
   "file_extension": ".py",
   "mimetype": "text/x-python",
   "name": "python",
   "nbconvert_exporter": "python",
   "pygments_lexer": "ipython3",
   "version": "3.10.6"
  }
 },
 "nbformat": 4,
 "nbformat_minor": 2
}
